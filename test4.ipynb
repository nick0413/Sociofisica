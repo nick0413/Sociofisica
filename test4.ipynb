{
 "cells": [
  {
   "cell_type": "code",
   "execution_count": 2,
   "metadata": {},
   "outputs": [],
   "source": [
    "import numpy as np \n",
    "import matplotlib.pylab as plt \n",
    "import pandas as pd \n",
    "import networkx as nx\n",
    "import SBMLDiagrams as SBML\n",
    "import libsbml\n",
    "import re \n",
    "import openai as gpt"
   ]
  },
  {
   "cell_type": "code",
   "execution_count": 3,
   "metadata": {},
   "outputs": [
    {
     "data": {
      "image/png": "[encoded data removed]",
      "text/plain": [
       "<Figure size 640x480 with 1 Axes>"
      ]
     },
     "metadata": {},
     "output_type": "display_data"
    }
   ],
   "source": [
    "G = nx.Graph()  # or DiGraph, MultiGraph, MultiDiGraph, etc\n",
    "G.add_node(1)\n",
    "G.add_node(\"Hello\")\n",
    "G.add_edge(1,\"Hello\")\n",
    "K3 = nx.Graph([(0, 1), (1, 2), (2, 0)])\n",
    "G.add_node(K3)\n",
    "G.number_of_nodes()\n",
    "nx.draw(G,with_labels=True)"
   ]
  },
  {
   "cell_type": "code",
   "execution_count": 4,
   "metadata": {},
   "outputs": [
    {
     "data": {
      "text/plain": [
       "-1"
      ]
     },
     "execution_count": 4,
     "metadata": {},
     "output_type": "execute_result"
    }
   ],
   "source": [
    "str1='abcde-fgh'\n",
    "str2='-fgy'\n",
    "str3='abcde-fghi'\n",
    "str1.find(str3)"
   ]
  },
  {
   "cell_type": "code",
   "execution_count": 5,
   "metadata": {},
   "outputs": [
    {
     "data": {
      "text/plain": [
       "' 5'"
      ]
     },
     "execution_count": 5,
     "metadata": {},
     "output_type": "execute_result"
    }
   ],
   "source": [
    "str4='5'\n",
    "str5=' '+str4\n",
    "str5"
   ]
  },
  {
   "cell_type": "code",
   "execution_count": 6,
   "metadata": {},
   "outputs": [
    {
     "name": "stdout",
     "output_type": "stream",
     "text": [
      "Grecia  \n",
      "Grecia  (pendeja?)\n"
     ]
    }
   ],
   "source": [
    "s2=re.sub(\"[\\(\\[].*?[\\)\\]]\", \"\", \"Grecia [muy] (pendeja)\")\n",
    "print(s2)\n",
    "s3=re.sub(\"[\\[].*?[\\]]\", \"\", \"Grecia [muy?] (pendeja?)\")\n",
    "print(s3)"
   ]
  },
  {
   "cell_type": "code",
   "execution_count": 7,
   "metadata": {},
   "outputs": [
    {
     "data": {
      "text/plain": [
       "['hj', 'hj', 'hj']"
      ]
     },
     "execution_count": 7,
     "metadata": {},
     "output_type": "execute_result"
    }
   ],
   "source": [
    "s3='dfvbhjasdfgbasdfbihjjhhj'\n",
    "\n",
    "R=re.findall('hj',s3)\n",
    "R"
   ]
  },
  {
   "cell_type": "code",
   "execution_count": 8,
   "metadata": {},
   "outputs": [
    {
     "name": "stdout",
     "output_type": "stream",
     "text": [
      "[0, 11]\n"
     ]
    }
   ],
   "source": [
    "import re\n",
    "\n",
    "string = 'bobby hadz bobbyhadz.com'\n",
    "\n",
    "indexes = [\n",
    "    match.start() for match in re.finditer(r'bob', string)\n",
    "]\n",
    "print(indexes)  # 👉️ [0, 11]"
   ]
  }
 ],
 "metadata": {
  "kernelspec": {
   "display_name": "Python 3",
   "language": "python",
   "name": "python3"
  },
  "language_info": {
   "codemirror_mode": {
    "name": "ipython",
    "version": 3
   },
   "file_extension": ".py",
   "mimetype": "text/x-python",
   "name": "python",
   "nbconvert_exporter": "python",
   "pygments_lexer": "ipython3",
   "version": "3.11.1"
  },
  "orig_nbformat": 4
 },
 "nbformat": 4,
 "nbformat_minor": 2
}
